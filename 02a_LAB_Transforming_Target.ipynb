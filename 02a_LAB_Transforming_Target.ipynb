{
  "cells": [
    {
      "cell_type": "markdown",
      "metadata": {
        "id": "view-in-github",
        "colab_type": "text"
      },
      "source": [
        "<a href=\"https://colab.research.google.com/github/amritigupta/machinelearning/blob/main/02a_LAB_Transforming_Target.ipynb\" target=\"_parent\"><img src=\"https://colab.research.google.com/assets/colab-badge.svg\" alt=\"Open In Colab\"/></a>"
      ]
    },
    {
      "cell_type": "markdown",
      "metadata": {
        "id": "03b67d7b-c5be-4125-826b-d2c96f03291f"
      },
      "source": [
        "# Machine Learning Foundation\n",
        "\n",
        "## Section 2, Part a: Regression Intro: Transforming Target\n"
      ]
    },
    {
      "cell_type": "markdown",
      "metadata": {
        "id": "ec5faba2-7420-4290-b837-022bc998b276"
      },
      "source": [
        "## Learning objectives\n",
        "\n",
        "By the end of this lesson, you will be able to:\n",
        "\n",
        "* Apply transformations to make target variable more normally distributed for Regression\n",
        "* Apply inverse transformations to be able to use these in a Regression context\n"
      ]
    },
    {
      "cell_type": "markdown",
      "metadata": {
        "id": "58e23a29-bfeb-40b5-ac34-583405c3bf52"
      },
      "source": [
        "> Note:The lab is not using Boston Dataset as it has been deprecated by scikit due to ethical issues. More information on this is avaliable at https://scikit-learn.org/1.1/modules/generated/sklearn.datasets.load_boston.html. This lab uses a very similar dataset based on california housing.\n"
      ]
    },
    {
      "cell_type": "code",
      "metadata": {
        "id": "a9eecee7-4f00-424e-a823-841eeb694d25"
      },
      "outputs": [],
      "source": [
        "import numpy as np\n",
        "import pandas as pd\n",
        "import matplotlib.pyplot as plt\n",
        "%matplotlib inline\n",
        "\n",
        "# Surpress warnings:\n",
        "def warn(*args, **kwargs):\n",
        "    pass\n",
        "import warnings\n",
        "warnings.warn = warn"
      ],
      "execution_count": 1
    },
    {
      "cell_type": "markdown",
      "metadata": {
        "id": "03931203-6d2d-41c6-974b-89a66cb708ab"
      },
      "source": [
        "In the following cells we will load the data and define some useful plotting functions.\n"
      ]
    },
    {
      "cell_type": "code",
      "metadata": {
        "id": "d38ca3c2-40d3-46d6-8edf-97720d0d6d97"
      },
      "outputs": [],
      "source": [
        "np.random.seed(72018)\n",
        "\n",
        "\n",
        "def to_2d(array):\n",
        "    return array.reshape(array.shape[0], -1)\n",
        "\n",
        "def plot_exponential_data():\n",
        "    data = np.exp(np.random.normal(size=1000))\n",
        "    plt.hist(data)\n",
        "    plt.show()\n",
        "    return data\n",
        "\n",
        "def plot_square_normal_data():\n",
        "    data = np.square(np.random.normal(loc=5, size=1000))\n",
        "    plt.hist(data)\n",
        "    plt.show()\n",
        "    return data"
      ],
      "execution_count": 2
    },
    {
      "cell_type": "markdown",
      "metadata": {
        "id": "3adf728c-cd4e-4708-8085-aa3e072dda91"
      },
      "source": [
        "### Loading the California Housing Data\n"
      ]
    },
    {
      "cell_type": "code",
      "metadata": {
        "id": "2bc643f8-21fd-48ca-a1c4-c7c10b28bfa7"
      },
      "outputs": [],
      "source": [
        "import numpy as np\n",
        "import pandas as pd\n",
        "from sklearn.datasets import fetch_california_housing\n",
        "\n",
        "housing = fetch_california_housing(download_if_missing=True)\n",
        "\n",
        "data = np.c_[housing.data, housing.target]\n",
        "columns = np.append(housing.feature_names, [\"MedVal\"])\n",
        "housing_df = pd.DataFrame(data, columns=columns)"
      ],
      "execution_count": 3
    },
    {
      "cell_type": "code",
      "metadata": {
        "colab": {
          "base_uri": "https://localhost:8080/",
          "height": 520
        },
        "id": "309778c9-5883-488a-944b-4f07763ea20b",
        "outputId": "43ef8e89-f03b-4874-941d-f9f1b41a739a"
      },
      "outputs": [
        {
          "output_type": "execute_result",
          "data": {
            "text/plain": [
              "    MedInc  HouseAge  AveRooms  AveBedrms  Population  AveOccup  Latitude  \\\n",
              "0   8.3252      41.0  6.984127   1.023810       322.0  2.555556     37.88   \n",
              "1   8.3014      21.0  6.238137   0.971880      2401.0  2.109842     37.86   \n",
              "2   7.2574      52.0  8.288136   1.073446       496.0  2.802260     37.85   \n",
              "3   5.6431      52.0  5.817352   1.073059       558.0  2.547945     37.85   \n",
              "4   3.8462      52.0  6.281853   1.081081       565.0  2.181467     37.85   \n",
              "5   4.0368      52.0  4.761658   1.103627       413.0  2.139896     37.85   \n",
              "6   3.6591      52.0  4.931907   0.951362      1094.0  2.128405     37.84   \n",
              "7   3.1200      52.0  4.797527   1.061824      1157.0  1.788253     37.84   \n",
              "8   2.0804      42.0  4.294118   1.117647      1206.0  2.026891     37.84   \n",
              "9   3.6912      52.0  4.970588   0.990196      1551.0  2.172269     37.84   \n",
              "10  3.2031      52.0  5.477612   1.079602       910.0  2.263682     37.85   \n",
              "11  3.2705      52.0  4.772480   1.024523      1504.0  2.049046     37.85   \n",
              "12  3.0750      52.0  5.322650   1.012821      1098.0  2.346154     37.85   \n",
              "13  2.6736      52.0  4.000000   1.097701       345.0  1.982759     37.84   \n",
              "14  1.9167      52.0  4.262903   1.009677      1212.0  1.954839     37.85   \n",
              "\n",
              "    Longitude  MedVal  \n",
              "0     -122.23   4.526  \n",
              "1     -122.22   3.585  \n",
              "2     -122.24   3.521  \n",
              "3     -122.25   3.413  \n",
              "4     -122.25   3.422  \n",
              "5     -122.25   2.697  \n",
              "6     -122.25   2.992  \n",
              "7     -122.25   2.414  \n",
              "8     -122.26   2.267  \n",
              "9     -122.25   2.611  \n",
              "10    -122.26   2.815  \n",
              "11    -122.26   2.418  \n",
              "12    -122.26   2.135  \n",
              "13    -122.26   1.913  \n",
              "14    -122.26   1.592  "
            ],
            "text/html": [
              "\n",
              "  <div id=\"df-a6765e9d-91ff-47f8-bb76-5c65bac486b2\" class=\"colab-df-container\">\n",
              "    <div>\n",
              "<style scoped>\n",
              "    .dataframe tbody tr th:only-of-type {\n",
              "        vertical-align: middle;\n",
              "    }\n",
              "\n",
              "    .dataframe tbody tr th {\n",
              "        vertical-align: top;\n",
              "    }\n",
              "\n",
              "    .dataframe thead th {\n",
              "        text-align: right;\n",
              "    }\n",
              "</style>\n",
              "<table border=\"1\" class=\"dataframe\">\n",
              "  <thead>\n",
              "    <tr style=\"text-align: right;\">\n",
              "      <th></th>\n",
              "      <th>MedInc</th>\n",
              "      <th>HouseAge</th>\n",
              "      <th>AveRooms</th>\n",
              "      <th>AveBedrms</th>\n",
              "      <th>Population</th>\n",
              "      <th>AveOccup</th>\n",
              "      <th>Latitude</th>\n",
              "      <th>Longitude</th>\n",
              "      <th>MedVal</th>\n",
              "    </tr>\n",
              "  </thead>\n",
              "  <tbody>\n",
              "    <tr>\n",
              "      <th>0</th>\n",
              "      <td>8.3252</td>\n",
              "      <td>41.0</td>\n",
              "      <td>6.984127</td>\n",
              "      <td>1.023810</td>\n",
              "      <td>322.0</td>\n",
              "      <td>2.555556</td>\n",
              "      <td>37.88</td>\n",
              "      <td>-122.23</td>\n",
              "      <td>4.526</td>\n",
              "    </tr>\n",
              "    <tr>\n",
              "      <th>1</th>\n",
              "      <td>8.3014</td>\n",
              "      <td>21.0</td>\n",
              "      <td>6.238137</td>\n",
              "      <td>0.971880</td>\n",
              "      <td>2401.0</td>\n",
              "      <td>2.109842</td>\n",
              "      <td>37.86</td>\n",
              "      <td>-122.22</td>\n",
              "      <td>3.585</td>\n",
              "    </tr>\n",
              "    <tr>\n",
              "      <th>2</th>\n",
              "      <td>7.2574</td>\n",
              "      <td>52.0</td>\n",
              "      <td>8.288136</td>\n",
              "      <td>1.073446</td>\n",
              "      <td>496.0</td>\n",
              "      <td>2.802260</td>\n",
              "      <td>37.85</td>\n",
              "      <td>-122.24</td>\n",
              "      <td>3.521</td>\n",
              "    </tr>\n",
              "    <tr>\n",
              "      <th>3</th>\n",
              "      <td>5.6431</td>\n",
              "      <td>52.0</td>\n",
              "      <td>5.817352</td>\n",
              "      <td>1.073059</td>\n",
              "      <td>558.0</td>\n",
              "      <td>2.547945</td>\n",
              "      <td>37.85</td>\n",
              "      <td>-122.25</td>\n",
              "      <td>3.413</td>\n",
              "    </tr>\n",
              "    <tr>\n",
              "      <th>4</th>\n",
              "      <td>3.8462</td>\n",
              "      <td>52.0</td>\n",
              "      <td>6.281853</td>\n",
              "      <td>1.081081</td>\n",
              "      <td>565.0</td>\n",
              "      <td>2.181467</td>\n",
              "      <td>37.85</td>\n",
              "      <td>-122.25</td>\n",
              "      <td>3.422</td>\n",
              "    </tr>\n",
              "    <tr>\n",
              "      <th>5</th>\n",
              "      <td>4.0368</td>\n",
              "      <td>52.0</td>\n",
              "      <td>4.761658</td>\n",
              "      <td>1.103627</td>\n",
              "      <td>413.0</td>\n",
              "      <td>2.139896</td>\n",
              "      <td>37.85</td>\n",
              "      <td>-122.25</td>\n",
              "      <td>2.697</td>\n",
              "    </tr>\n",
              "    <tr>\n",
              "      <th>6</th>\n",
              "      <td>3.6591</td>\n",
              "      <td>52.0</td>\n",
              "      <td>4.931907</td>\n",
              "      <td>0.951362</td>\n",
              "      <td>1094.0</td>\n",
              "      <td>2.128405</td>\n",
              "      <td>37.84</td>\n",
              "      <td>-122.25</td>\n",
              "      <td>2.992</td>\n",
              "    </tr>\n",
              "    <tr>\n",
              "      <th>7</th>\n",
              "      <td>3.1200</td>\n",
              "      <td>52.0</td>\n",
              "      <td>4.797527</td>\n",
              "      <td>1.061824</td>\n",
              "      <td>1157.0</td>\n",
              "      <td>1.788253</td>\n",
              "      <td>37.84</td>\n",
              "      <td>-122.25</td>\n",
              "      <td>2.414</td>\n",
              "    </tr>\n",
              "    <tr>\n",
              "      <th>8</th>\n",
              "      <td>2.0804</td>\n",
              "      <td>42.0</td>\n",
              "      <td>4.294118</td>\n",
              "      <td>1.117647</td>\n",
              "      <td>1206.0</td>\n",
              "      <td>2.026891</td>\n",
              "      <td>37.84</td>\n",
              "      <td>-122.26</td>\n",
              "      <td>2.267</td>\n",
              "    </tr>\n",
              "    <tr>\n",
              "      <th>9</th>\n",
              "      <td>3.6912</td>\n",
              "      <td>52.0</td>\n",
              "      <td>4.970588</td>\n",
              "      <td>0.990196</td>\n",
              "      <td>1551.0</td>\n",
              "      <td>2.172269</td>\n",
              "      <td>37.84</td>\n",
              "      <td>-122.25</td>\n",
              "      <td>2.611</td>\n",
              "    </tr>\n",
              "    <tr>\n",
              "      <th>10</th>\n",
              "      <td>3.2031</td>\n",
              "      <td>52.0</td>\n",
              "      <td>5.477612</td>\n",
              "      <td>1.079602</td>\n",
              "      <td>910.0</td>\n",
              "      <td>2.263682</td>\n",
              "      <td>37.85</td>\n",
              "      <td>-122.26</td>\n",
              "      <td>2.815</td>\n",
              "    </tr>\n",
              "    <tr>\n",
              "      <th>11</th>\n",
              "      <td>3.2705</td>\n",
              "      <td>52.0</td>\n",
              "      <td>4.772480</td>\n",
              "      <td>1.024523</td>\n",
              "      <td>1504.0</td>\n",
              "      <td>2.049046</td>\n",
              "      <td>37.85</td>\n",
              "      <td>-122.26</td>\n",
              "      <td>2.418</td>\n",
              "    </tr>\n",
              "    <tr>\n",
              "      <th>12</th>\n",
              "      <td>3.0750</td>\n",
              "      <td>52.0</td>\n",
              "      <td>5.322650</td>\n",
              "      <td>1.012821</td>\n",
              "      <td>1098.0</td>\n",
              "      <td>2.346154</td>\n",
              "      <td>37.85</td>\n",
              "      <td>-122.26</td>\n",
              "      <td>2.135</td>\n",
              "    </tr>\n",
              "    <tr>\n",
              "      <th>13</th>\n",
              "      <td>2.6736</td>\n",
              "      <td>52.0</td>\n",
              "      <td>4.000000</td>\n",
              "      <td>1.097701</td>\n",
              "      <td>345.0</td>\n",
              "      <td>1.982759</td>\n",
              "      <td>37.84</td>\n",
              "      <td>-122.26</td>\n",
              "      <td>1.913</td>\n",
              "    </tr>\n",
              "    <tr>\n",
              "      <th>14</th>\n",
              "      <td>1.9167</td>\n",
              "      <td>52.0</td>\n",
              "      <td>4.262903</td>\n",
              "      <td>1.009677</td>\n",
              "      <td>1212.0</td>\n",
              "      <td>1.954839</td>\n",
              "      <td>37.85</td>\n",
              "      <td>-122.26</td>\n",
              "      <td>1.592</td>\n",
              "    </tr>\n",
              "  </tbody>\n",
              "</table>\n",
              "</div>\n",
              "    <div class=\"colab-df-buttons\">\n",
              "\n",
              "  <div class=\"colab-df-container\">\n",
              "    <button class=\"colab-df-convert\" onclick=\"convertToInteractive('df-a6765e9d-91ff-47f8-bb76-5c65bac486b2')\"\n",
              "            title=\"Convert this dataframe to an interactive table.\"\n",
              "            style=\"display:none;\">\n",
              "\n",
              "  <svg xmlns=\"http://www.w3.org/2000/svg\" height=\"24px\" viewBox=\"0 -960 960 960\">\n",
              "    <path d=\"M120-120v-720h720v720H120Zm60-500h600v-160H180v160Zm220 220h160v-160H400v160Zm0 220h160v-160H400v160ZM180-400h160v-160H180v160Zm440 0h160v-160H620v160ZM180-180h160v-160H180v160Zm440 0h160v-160H620v160Z\"/>\n",
              "  </svg>\n",
              "    </button>\n",
              "\n",
              "  <style>\n",
              "    .colab-df-container {\n",
              "      display:flex;\n",
              "      gap: 12px;\n",
              "    }\n",
              "\n",
              "    .colab-df-convert {\n",
              "      background-color: #E8F0FE;\n",
              "      border: none;\n",
              "      border-radius: 50%;\n",
              "      cursor: pointer;\n",
              "      display: none;\n",
              "      fill: #1967D2;\n",
              "      height: 32px;\n",
              "      padding: 0 0 0 0;\n",
              "      width: 32px;\n",
              "    }\n",
              "\n",
              "    .colab-df-convert:hover {\n",
              "      background-color: #E2EBFA;\n",
              "      box-shadow: 0px 1px 2px rgba(60, 64, 67, 0.3), 0px 1px 3px 1px rgba(60, 64, 67, 0.15);\n",
              "      fill: #174EA6;\n",
              "    }\n",
              "\n",
              "    .colab-df-buttons div {\n",
              "      margin-bottom: 4px;\n",
              "    }\n",
              "\n",
              "    [theme=dark] .colab-df-convert {\n",
              "      background-color: #3B4455;\n",
              "      fill: #D2E3FC;\n",
              "    }\n",
              "\n",
              "    [theme=dark] .colab-df-convert:hover {\n",
              "      background-color: #434B5C;\n",
              "      box-shadow: 0px 1px 3px 1px rgba(0, 0, 0, 0.15);\n",
              "      filter: drop-shadow(0px 1px 2px rgba(0, 0, 0, 0.3));\n",
              "      fill: #FFFFFF;\n",
              "    }\n",
              "  </style>\n",
              "\n",
              "    <script>\n",
              "      const buttonEl =\n",
              "        document.querySelector('#df-a6765e9d-91ff-47f8-bb76-5c65bac486b2 button.colab-df-convert');\n",
              "      buttonEl.style.display =\n",
              "        google.colab.kernel.accessAllowed ? 'block' : 'none';\n",
              "\n",
              "      async function convertToInteractive(key) {\n",
              "        const element = document.querySelector('#df-a6765e9d-91ff-47f8-bb76-5c65bac486b2');\n",
              "        const dataTable =\n",
              "          await google.colab.kernel.invokeFunction('convertToInteractive',\n",
              "                                                    [key], {});\n",
              "        if (!dataTable) return;\n",
              "\n",
              "        const docLinkHtml = 'Like what you see? Visit the ' +\n",
              "          '<a target=\"_blank\" href=https://colab.research.google.com/notebooks/data_table.ipynb>data table notebook</a>'\n",
              "          + ' to learn more about interactive tables.';\n",
              "        element.innerHTML = '';\n",
              "        dataTable['output_type'] = 'display_data';\n",
              "        await google.colab.output.renderOutput(dataTable, element);\n",
              "        const docLink = document.createElement('div');\n",
              "        docLink.innerHTML = docLinkHtml;\n",
              "        element.appendChild(docLink);\n",
              "      }\n",
              "    </script>\n",
              "  </div>\n",
              "\n",
              "\n",
              "<div id=\"df-fa512ff8-c5ac-4b9d-b6dd-eadecf1c1ee6\">\n",
              "  <button class=\"colab-df-quickchart\" onclick=\"quickchart('df-fa512ff8-c5ac-4b9d-b6dd-eadecf1c1ee6')\"\n",
              "            title=\"Suggest charts.\"\n",
              "            style=\"display:none;\">\n",
              "\n",
              "<svg xmlns=\"http://www.w3.org/2000/svg\" height=\"24px\"viewBox=\"0 0 24 24\"\n",
              "     width=\"24px\">\n",
              "    <g>\n",
              "        <path d=\"M19 3H5c-1.1 0-2 .9-2 2v14c0 1.1.9 2 2 2h14c1.1 0 2-.9 2-2V5c0-1.1-.9-2-2-2zM9 17H7v-7h2v7zm4 0h-2V7h2v10zm4 0h-2v-4h2v4z\"/>\n",
              "    </g>\n",
              "</svg>\n",
              "  </button>\n",
              "\n",
              "<style>\n",
              "  .colab-df-quickchart {\n",
              "      --bg-color: #E8F0FE;\n",
              "      --fill-color: #1967D2;\n",
              "      --hover-bg-color: #E2EBFA;\n",
              "      --hover-fill-color: #174EA6;\n",
              "      --disabled-fill-color: #AAA;\n",
              "      --disabled-bg-color: #DDD;\n",
              "  }\n",
              "\n",
              "  [theme=dark] .colab-df-quickchart {\n",
              "      --bg-color: #3B4455;\n",
              "      --fill-color: #D2E3FC;\n",
              "      --hover-bg-color: #434B5C;\n",
              "      --hover-fill-color: #FFFFFF;\n",
              "      --disabled-bg-color: #3B4455;\n",
              "      --disabled-fill-color: #666;\n",
              "  }\n",
              "\n",
              "  .colab-df-quickchart {\n",
              "    background-color: var(--bg-color);\n",
              "    border: none;\n",
              "    border-radius: 50%;\n",
              "    cursor: pointer;\n",
              "    display: none;\n",
              "    fill: var(--fill-color);\n",
              "    height: 32px;\n",
              "    padding: 0;\n",
              "    width: 32px;\n",
              "  }\n",
              "\n",
              "  .colab-df-quickchart:hover {\n",
              "    background-color: var(--hover-bg-color);\n",
              "    box-shadow: 0 1px 2px rgba(60, 64, 67, 0.3), 0 1px 3px 1px rgba(60, 64, 67, 0.15);\n",
              "    fill: var(--button-hover-fill-color);\n",
              "  }\n",
              "\n",
              "  .colab-df-quickchart-complete:disabled,\n",
              "  .colab-df-quickchart-complete:disabled:hover {\n",
              "    background-color: var(--disabled-bg-color);\n",
              "    fill: var(--disabled-fill-color);\n",
              "    box-shadow: none;\n",
              "  }\n",
              "\n",
              "  .colab-df-spinner {\n",
              "    border: 2px solid var(--fill-color);\n",
              "    border-color: transparent;\n",
              "    border-bottom-color: var(--fill-color);\n",
              "    animation:\n",
              "      spin 1s steps(1) infinite;\n",
              "  }\n",
              "\n",
              "  @keyframes spin {\n",
              "    0% {\n",
              "      border-color: transparent;\n",
              "      border-bottom-color: var(--fill-color);\n",
              "      border-left-color: var(--fill-color);\n",
              "    }\n",
              "    20% {\n",
              "      border-color: transparent;\n",
              "      border-left-color: var(--fill-color);\n",
              "      border-top-color: var(--fill-color);\n",
              "    }\n",
              "    30% {\n",
              "      border-color: transparent;\n",
              "      border-left-color: var(--fill-color);\n",
              "      border-top-color: var(--fill-color);\n",
              "      border-right-color: var(--fill-color);\n",
              "    }\n",
              "    40% {\n",
              "      border-color: transparent;\n",
              "      border-right-color: var(--fill-color);\n",
              "      border-top-color: var(--fill-color);\n",
              "    }\n",
              "    60% {\n",
              "      border-color: transparent;\n",
              "      border-right-color: var(--fill-color);\n",
              "    }\n",
              "    80% {\n",
              "      border-color: transparent;\n",
              "      border-right-color: var(--fill-color);\n",
              "      border-bottom-color: var(--fill-color);\n",
              "    }\n",
              "    90% {\n",
              "      border-color: transparent;\n",
              "      border-bottom-color: var(--fill-color);\n",
              "    }\n",
              "  }\n",
              "</style>\n",
              "\n",
              "  <script>\n",
              "    async function quickchart(key) {\n",
              "      const quickchartButtonEl =\n",
              "        document.querySelector('#' + key + ' button');\n",
              "      quickchartButtonEl.disabled = true;  // To prevent multiple clicks.\n",
              "      quickchartButtonEl.classList.add('colab-df-spinner');\n",
              "      try {\n",
              "        const charts = await google.colab.kernel.invokeFunction(\n",
              "            'suggestCharts', [key], {});\n",
              "      } catch (error) {\n",
              "        console.error('Error during call to suggestCharts:', error);\n",
              "      }\n",
              "      quickchartButtonEl.classList.remove('colab-df-spinner');\n",
              "      quickchartButtonEl.classList.add('colab-df-quickchart-complete');\n",
              "    }\n",
              "    (() => {\n",
              "      let quickchartButtonEl =\n",
              "        document.querySelector('#df-fa512ff8-c5ac-4b9d-b6dd-eadecf1c1ee6 button');\n",
              "      quickchartButtonEl.style.display =\n",
              "        google.colab.kernel.accessAllowed ? 'block' : 'none';\n",
              "    })();\n",
              "  </script>\n",
              "</div>\n",
              "    </div>\n",
              "  </div>\n"
            ]
          },
          "metadata": {},
          "execution_count": 4
        }
      ],
      "source": [
        "housing_df.head(15)"
      ],
      "execution_count": 4
    },
    {
      "cell_type": "markdown",
      "metadata": {
        "id": "803f98c0-75a7-45d2-815d-d327130cff00"
      },
      "source": [
        "### Determining Normality\n"
      ]
    },
    {
      "cell_type": "markdown",
      "metadata": {
        "id": "cac827de-45d3-4ddb-bc6d-c83d0db5c9d5"
      },
      "source": [
        "Making our target variable normally distributed often will lead to better results\n",
        "\n",
        "If our target is not normally distributed, we can apply a transformation to it and then fit our regression to predict the transformed values.\n",
        "\n",
        "How can we tell if our target is normally distributed? There are two ways:\n",
        "\n",
        "* Using a Visual approach\n",
        "* Using a Statistical Test\n"
      ]
    },
    {
      "cell_type": "markdown",
      "metadata": {
        "id": "a08be94d-7c90-45b8-8c17-3e894877d39b"
      },
      "source": [
        "#### Using a Visual approach\n"
      ]
    },
    {
      "cell_type": "markdown",
      "metadata": {
        "id": "a6664931-94e2-4244-acb9-74bb7763b4d6"
      },
      "source": [
        "#### Plotting a histogram:\n"
      ]
    },
    {
      "cell_type": "code",
      "metadata": {
        "colab": {
          "base_uri": "https://localhost:8080/",
          "height": 430
        },
        "id": "2c3d5ae3-19a2-45f9-84a3-d0bdff85f3ff",
        "outputId": "424740e1-9d9a-494c-d7bc-ff0bd5595b20"
      },
      "outputs": [
        {
          "output_type": "display_data",
          "data": {
            "text/plain": [
              "<Figure size 640x480 with 1 Axes>"
            ],
            "image/png": "[encoded data removed]"
          },
          "metadata": {}
        }
      ],
      "source": [
        "housing_df.MedVal.hist();"
      ],
      "execution_count": 5
    },
    {
      "cell_type": "markdown",
      "metadata": {
        "id": "23f47748-fed6-479f-b7ad-67311dfa1a4f"
      },
      "source": [
        "The histogram does not look normal due to its right tail.\n"
      ]
    },
    {
      "cell_type": "markdown",
      "metadata": {
        "id": "328a272b-b55b-4a16-b59b-cf508aae48ca"
      },
      "source": [
        "#### Using a Statistical Test\n"
      ]
    },
    {
      "cell_type": "markdown",
      "metadata": {
        "id": "b4a34365-8fea-40db-941a-7e4236bac46d"
      },
      "source": [
        "Without getting into Bayesian vs. frequentist debates, for the purposes of this lesson, the following will suffice:\n",
        "\n",
        "* This is a statistical test that tests whether a distribution is normally distributed or not. It isn't perfect, but suffice it to say:\n",
        "    * This test outputs a **p-value**. The _higher_ this p-value is the _closer_ the distribution is to normal.\n",
        "    * Frequentist statisticians would say that you accept that the distribution is normal (more specifically: fail to reject the null hypothesis that it is normal) if p > 0.05.\n"
      ]
    },
    {
      "cell_type": "code",
      "metadata": {
        "id": "ece186ad-adee-40cc-8dff-8768c1bf8693"
      },
      "outputs": [],
      "source": [
        "from scipy.stats.mstats import normaltest # D'Agostino K^2 Test"
      ],
      "execution_count": 6
    },
    {
      "cell_type": "code",
      "metadata": {
        "colab": {
          "base_uri": "https://localhost:8080/"
        },
        "id": "cc399996-6b7a-47b7-8d02-617222e1db15",
        "outputId": "a27edd22-d1e3-4c21-8b0a-0a822fe2ec26"
      },
      "outputs": [
        {
          "output_type": "execute_result",
          "data": {
            "text/plain": [
              "NormaltestResult(statistic=2430.931051066072, pvalue=0.0)"
            ]
          },
          "metadata": {},
          "execution_count": 7
        }
      ],
      "source": [
        "normaltest(housing_df.MedVal.values)"
      ],
      "execution_count": 7
    },
    {
      "cell_type": "markdown",
      "metadata": {
        "id": "57742009-88cb-48c3-80c7-86a955e2a6de"
      },
      "source": [
        "p-value is _extremely_ low. Our **y** variable which we have been dealing with this whole time was not normally distributed!\n"
      ]
    },
    {
      "cell_type": "markdown",
      "metadata": {
        "id": "1bdb4005-6cfd-4f08-96a9-542d04dd1306"
      },
      "source": [
        "### Apply transformations to make target variable more normally distributed for Regression\n"
      ]
    },
    {
      "cell_type": "markdown",
      "metadata": {
        "id": "ba228fae-a7cd-4ea3-bf54-1a25ec383235"
      },
      "source": [
        "Linear Regression assumes a normally distributed residuals which can be aided by transforming **y** variable which is the target variable. Let's try some common transformations to try and get **y** to be normally distributed:\n",
        "\n",
        "* Log Transformation\n",
        "* Square root Transformation\n",
        "* Box cox Transformation\n"
      ]
    },
    {
      "cell_type": "markdown",
      "metadata": {
        "id": "bd151839-a228-44f1-bf6c-d68a59842f3d"
      },
      "source": [
        "### Log Transformation\n"
      ]
    },
    {
      "cell_type": "markdown",
      "metadata": {
        "id": "d05be4ff-172e-4286-b60e-7d82cecb7cd1"
      },
      "source": [
        "The log transformation can transform data that is significantly skewed right to be more normally distributed:\n"
      ]
    },
    {
      "cell_type": "code",
      "metadata": {
        "colab": {
          "base_uri": "https://localhost:8080/",
          "height": 430
        },
        "id": "de16985e-cf3c-4897-9d2b-b7ce85165f8d",
        "outputId": "b5aec3dc-17a9-4bd8-822e-85f9e633e746"
      },
      "outputs": [
        {
          "output_type": "display_data",
          "data": {
            "text/plain": [
              "<Figure size 640x480 with 1 Axes>"
            ],
            "image/png": "[encoded data removed]"
          },
          "metadata": {}
        }
      ],
      "source": [
        "data = plot_exponential_data()"
      ],
      "execution_count": 8
    },
    {
      "cell_type": "code",
      "metadata": {
        "colab": {
          "base_uri": "https://localhost:8080/",
          "height": 430
        },
        "id": "c03fb5d1-bbb4-41bb-9e0b-525a43cdf15d",
        "outputId": "fa5a4c91-3c5a-4fb0-d39d-af74804a46eb"
      },
      "outputs": [
        {
          "output_type": "display_data",
          "data": {
            "text/plain": [
              "<Figure size 640x480 with 1 Axes>"
            ],
            "image/png": "[encoded data removed]"
          },
          "metadata": {}
        }
      ],
      "source": [
        "plt.hist(np.log(data));"
      ],
      "execution_count": 9
    },
    {
      "cell_type": "markdown",
      "metadata": {
        "id": "53c9f4c6-9510-47a4-8600-323638f6c53f"
      },
      "source": [
        "**Apply transformation to California Housing data:**\n"
      ]
    },
    {
      "cell_type": "code",
      "metadata": {
        "id": "d84a803b-10f4-4d1d-a326-47c1b7171a2a"
      },
      "outputs": [],
      "source": [
        "log_medv = np.log(housing_df.MedVal)"
      ],
      "execution_count": 10
    },
    {
      "cell_type": "code",
      "metadata": {
        "colab": {
          "base_uri": "https://localhost:8080/",
          "height": 431
        },
        "id": "95ee19ba-dba0-47b1-93b4-d2143b130c2b",
        "outputId": "6bdddb67-7661-4c8e-9656-e953d7680db2"
      },
      "outputs": [
        {
          "output_type": "display_data",
          "data": {
            "text/plain": [
              "<Figure size 640x480 with 1 Axes>"
            ],
            "image/png": "[encoded data removed]"
          },
          "metadata": {}
        }
      ],
      "source": [
        "log_medv.hist();"
      ],
      "execution_count": 11
    },
    {
      "cell_type": "code",
      "metadata": {
        "colab": {
          "base_uri": "https://localhost:8080/"
        },
        "id": "0a593f65-06c9-4934-95ba-45f8d8bb31ee",
        "outputId": "e11771b8-082a-4085-d129-07f4941e3ff1"
      },
      "outputs": [
        {
          "output_type": "execute_result",
          "data": {
            "text/plain": [
              "NormaltestResult(statistic=359.5441835709388, pvalue=8.432814311328483e-79)"
            ]
          },
          "metadata": {},
          "execution_count": 12
        }
      ],
      "source": [
        "normaltest(log_medv)"
      ],
      "execution_count": 12
    },
    {
      "cell_type": "markdown",
      "metadata": {
        "id": "fd9b4ccd-0478-4393-9b7c-fcc9e855b4cc"
      },
      "source": [
        "Conclusion: The output is closer to normal distribution, but still not completely normal.\n"
      ]
    },
    {
      "cell_type": "markdown",
      "metadata": {
        "id": "a4d50fce-1950-4153-b7a7-599b2e6d56d7"
      },
      "source": [
        "### Square root Transformation\n",
        "\n",
        "The square root transformation is another transformation that can transform non-normally distributed data into normally distributed data:\n"
      ]
    },
    {
      "cell_type": "code",
      "metadata": {
        "colab": {
          "base_uri": "https://localhost:8080/",
          "height": 430
        },
        "id": "ace960a3-13ab-4d2e-b037-e432b1c5d9b0",
        "outputId": "d0d2f8c0-3c7e-4c9a-f738-1dafe9722107"
      },
      "outputs": [
        {
          "output_type": "display_data",
          "data": {
            "text/plain": [
              "<Figure size 640x480 with 1 Axes>"
            ],
            "image/png": "[encoded data removed]"
          },
          "metadata": {}
        }
      ],
      "source": [
        "data = plot_square_normal_data()"
      ],
      "execution_count": 13
    },
    {
      "cell_type": "markdown",
      "metadata": {
        "id": "f006034b-ba8b-4571-8887-6f11d78fb874"
      },
      "source": [
        "You may notice that the output still exhibits a slight right skew.\n"
      ]
    },
    {
      "cell_type": "code",
      "metadata": {
        "colab": {
          "base_uri": "https://localhost:8080/",
          "height": 430
        },
        "id": "51a7b895-5a60-4c4e-9419-21c80f566dbf",
        "outputId": "c84fbc8c-87a5-44c0-a4b5-9eaa9a9d4d5a"
      },
      "outputs": [
        {
          "output_type": "display_data",
          "data": {
            "text/plain": [
              "<Figure size 640x480 with 1 Axes>"
            ],
            "image/png": "[encoded data removed]"
          },
          "metadata": {}
        }
      ],
      "source": [
        "plt.hist(np.sqrt(data));"
      ],
      "execution_count": 14
    },
    {
      "cell_type": "markdown",
      "metadata": {
        "id": "4d67cf38-91ce-4dc4-8bfc-ed3f328afc8f"
      },
      "source": [
        "#### Exercise\n"
      ]
    },
    {
      "cell_type": "markdown",
      "metadata": {
        "id": "86b5a1cc-7b57-4c44-b094-8400cea14240"
      },
      "source": [
        "Apply the square root transformation to the California Housing data target and test whether the result is normally distributed.\n"
      ]
    },
    {
      "cell_type": "code",
      "metadata": {
        "colab": {
          "base_uri": "https://localhost:8080/",
          "height": 537
        },
        "id": "a171cc38-8545-4664-aadd-12d5c19b0954",
        "outputId": "a63a766d-09f8-46ae-cdb9-cf429a95a211"
      },
      "outputs": [
        {
          "output_type": "execute_result",
          "data": {
            "text/plain": [
              "(array([  20.,  505., 2056., 3114., 4019., 3593., 2961., 1693., 1145.,\n",
              "        1534.]),\n",
              " array([0.38728542, 0.5721639 , 0.75704238, 0.94192086, 1.12679934,\n",
              "        1.31167782, 1.4965563 , 1.68143478, 1.86631326, 2.05119173,\n",
              "        2.23607021]),\n",
              " <BarContainer object of 10 artists>)"
            ]
          },
          "metadata": {},
          "execution_count": 23
        },
        {
          "output_type": "display_data",
          "data": {
            "text/plain": [
              "<Figure size 640x480 with 1 Axes>"
            ],
            "image/png": "[encoded data removed]"
          },
          "metadata": {}
        }
      ],
      "source": [
        "## Enter your code here\n",
        "sqrt_medv = np.sqrt(housing_df.MedVal)\n",
        "plt.hist(sqrt_medv)"
      ],
      "execution_count": 23
    },
    {
      "cell_type": "markdown",
      "metadata": {
        "id": "92b913f8-b710-4215-905b-db671d25408e"
      },
      "source": [
        "Click <b>here</b> for the solution.\n",
        "\n",
        "<!-- The answer is below:\n",
        "\n",
        "sqrt_medv = np.sqrt(housing_df.MedVal)\n",
        "plt.hist(sqrt_medv)\n",
        "-->\n"
      ]
    },
    {
      "cell_type": "code",
      "metadata": {
        "colab": {
          "base_uri": "https://localhost:8080/"
        },
        "id": "d8545c37-a326-4d28-93f9-e3cf4c5bcd3d",
        "outputId": "73af24fa-e042-42e9-ef42-e30afbf1685d"
      },
      "outputs": [
        {
          "output_type": "execute_result",
          "data": {
            "text/plain": [
              "NormaltestResult(statistic=851.8425227299578, pvalue=1.0586355256007262e-185)"
            ]
          },
          "metadata": {},
          "execution_count": 24
        }
      ],
      "source": [
        "normaltest(sqrt_medv)"
      ],
      "execution_count": 24
    },
    {
      "cell_type": "markdown",
      "metadata": {
        "id": "088a26a6-60da-4568-9d4f-97b4b01a39a6"
      },
      "source": [
        "### Box cox Transformation\n"
      ]
    },
    {
      "cell_type": "markdown",
      "metadata": {
        "id": "3dcc9ce7-3ecf-4348-8229-cb226adc23cc"
      },
      "source": [
        "The box cox transformation is a parametrized transformation that tries to get distributions \"as close to a normal distribution as possible\".\n",
        "\n",
        "It is defined as:\n",
        "\n",
        "$$ \\text{boxcox}(y_i) = \\frac{y_i^{\\lambda} - 1}{\\lambda} $$\n",
        "\n",
        "You can think of as a generalization of the square root function: the square root function uses the exponent of 0.5, but box cox lets its exponent vary so it can find the best one.\n"
      ]
    },
    {
      "cell_type": "code",
      "metadata": {
        "id": "2d432571-34aa-4581-b632-3dc858e3500b"
      },
      "outputs": [],
      "source": [
        "from scipy.stats import boxcox"
      ],
      "execution_count": 15
    },
    {
      "cell_type": "code",
      "source": [
        "bc_result = boxcox(housing_df.MedVal)\n",
        "print(bc_result)"
      ],
      "metadata": {
        "colab": {
          "base_uri": "https://localhost:8080/"
        },
        "id": "9svpkf-Fv2BB",
        "outputId": "0391474f-92b5-4e74-fc90-0b768e8b5407"
      },
      "execution_count": 26,
      "outputs": [
        {
          "output_type": "stream",
          "name": "stdout",
          "text": [
            "(array([ 1.66139039,  1.38405488,  1.36295501, ..., -0.07972692,\n",
            "       -0.1643465 , -0.11127003]), 0.12474766353082614)\n"
          ]
        }
      ]
    },
    {
      "cell_type": "code",
      "metadata": {
        "colab": {
          "base_uri": "https://localhost:8080/"
        },
        "id": "3a47903e-e2dd-4f9d-88a2-f67dd0d2c63a",
        "outputId": "6f2c9f8f-ea16-4636-b02f-fc7c7c8f75b9"
      },
      "outputs": [
        {
          "output_type": "stream",
          "name": "stdout",
          "text": [
            "(array([ 1.66139039,  1.38405488,  1.36295501, ..., -0.07972692,\n",
            "       -0.1643465 , -0.11127003]), 0.12474766353082614)\n",
            "[ 1.66139039  1.38405488  1.36295501 ... -0.07972692 -0.1643465\n",
            " -0.11127003]\n"
          ]
        }
      ],
      "source": [
        "boxcox_medv = bc_result[0]\n",
        "lam = bc_result[1]\n",
        "print(bc_result)\n",
        "print(boxcox_medv)"
      ],
      "execution_count": 31
    },
    {
      "cell_type": "code",
      "metadata": {
        "colab": {
          "base_uri": "https://localhost:8080/"
        },
        "id": "c86d4854-71eb-4dad-9b5a-0270221527ed",
        "outputId": "f1cd1e6a-cf6d-41a0-ad6b-a41f31efc38d"
      },
      "outputs": [
        {
          "output_type": "execute_result",
          "data": {
            "text/plain": [
              "0.12474766353082614"
            ]
          },
          "metadata": {},
          "execution_count": 28
        }
      ],
      "source": [
        "lam"
      ],
      "execution_count": 28
    },
    {
      "cell_type": "code",
      "metadata": {
        "colab": {
          "base_uri": "https://localhost:8080/",
          "height": 430
        },
        "id": "38ce45e5-e2b9-4bb2-9fbf-c808cf5b892c",
        "outputId": "91f63fcf-ff80-4739-b3c2-65faef6d2089"
      },
      "outputs": [
        {
          "output_type": "display_data",
          "data": {
            "text/plain": [
              "<Figure size 640x480 with 1 Axes>"
            ],
            "image/png": "[encoded data removed]"
          },
          "metadata": {}
        }
      ],
      "source": [
        "housing_df['MedVal'].hist();"
      ],
      "execution_count": 18
    },
    {
      "cell_type": "code",
      "metadata": {
        "colab": {
          "base_uri": "https://localhost:8080/",
          "height": 430
        },
        "id": "a13ae6bc-945b-43cf-9422-7bccd6e46e41",
        "outputId": "e4d6ee7a-6db3-44b1-f609-9c9697b0b8d8"
      },
      "outputs": [
        {
          "output_type": "display_data",
          "data": {
            "text/plain": [
              "<Figure size 640x480 with 1 Axes>"
            ],
            "image/png": "[encoded data removed]"
          },
          "metadata": {}
        }
      ],
      "source": [
        "plt.hist(boxcox_medv);"
      ],
      "execution_count": 19
    },
    {
      "cell_type": "code",
      "metadata": {
        "colab": {
          "base_uri": "https://localhost:8080/"
        },
        "id": "9623b067-20c1-4590-81a0-15c96e957bdc",
        "outputId": "69031649-83d2-4277-f00f-729ddc423a5c"
      },
      "outputs": [
        {
          "output_type": "execute_result",
          "data": {
            "text/plain": [
              "NormaltestResult(statistic=446.7475200170056, pvalue=9.772566318644954e-98)"
            ]
          },
          "metadata": {},
          "execution_count": 20
        }
      ],
      "source": [
        "normaltest(boxcox_medv)"
      ],
      "execution_count": 20
    },
    {
      "cell_type": "markdown",
      "metadata": {
        "id": "1835a1cb-bacf-4f0d-b6d3-2011241ffbb1"
      },
      "source": [
        "We find that the box cox results in a graph which is significantly more normally distributed (according to p value) than the other two distributions.This can be even above 0.05.\n",
        "\n",
        "Now that we have a normally distributed y-variable, let's test Regression using this transformed target variables.\n"
      ]
    },
    {
      "cell_type": "markdown",
      "metadata": {
        "id": "9f084256-7287-443f-9c7f-0574bceb1468"
      },
      "source": [
        "### Testing regression:\n"
      ]
    },
    {
      "cell_type": "code",
      "metadata": {
        "id": "54eb5460-5856-4144-bee2-561e78763a08"
      },
      "outputs": [],
      "source": [
        "from sklearn.linear_model import LinearRegression\n",
        "from sklearn.metrics import r2_score\n",
        "from sklearn.model_selection import train_test_split\n",
        "from sklearn.preprocessing import (StandardScaler,\n",
        "                                   PolynomialFeatures)"
      ],
      "execution_count": 21
    },
    {
      "cell_type": "code",
      "metadata": {
        "id": "33401c8c-7353-4feb-a32d-da53a6f1bc5b"
      },
      "outputs": [],
      "source": [
        "lr = LinearRegression()"
      ],
      "execution_count": 22
    },
    {
      "cell_type": "markdown",
      "metadata": {
        "id": "cff590a1-d528-4354-a5dc-510737a207bd"
      },
      "source": [
        "**Load the dataframe `housing_df`:**\n"
      ]
    },
    {
      "cell_type": "code",
      "metadata": {
        "id": "158f2eb2-1226-454e-b9fd-1e75b53ada4d"
      },
      "outputs": [],
      "source": [
        "data = np.c_[housing.data, housing.target]\n",
        "columns = np.append(housing.feature_names, [\"MedVal\"])\n",
        "housing_df = pd.DataFrame(data, columns=columns)"
      ],
      "execution_count": 32
    },
    {
      "cell_type": "markdown",
      "metadata": {
        "id": "d64ee2ae-5254-4500-995d-8533781244e7"
      },
      "source": [
        "**Define and load the predictor (X) and Target(y) variables **\n"
      ]
    },
    {
      "cell_type": "code",
      "metadata": {
        "id": "ab1a0c3a-dd55-40fc-b8aa-db87cf3b63cf"
      },
      "outputs": [],
      "source": [
        "y_col = \"MedVal\"\n",
        "\n",
        "X = housing_df.drop(y_col, axis=1)\n",
        "y = housing_df[y_col]"
      ],
      "execution_count": 33
    },
    {
      "cell_type": "markdown",
      "metadata": {
        "id": "8de67112-8d7c-4dcd-a582-b9a681dc8a11"
      },
      "source": [
        "**Create Polynomial Features**\n"
      ]
    },
    {
      "cell_type": "code",
      "metadata": {
        "id": "859dc8e1-d5ab-4bc6-9f2b-55552b2ba0af"
      },
      "outputs": [],
      "source": [
        "pf = PolynomialFeatures(degree=2, include_bias=False)\n",
        "X_pf = pf.fit_transform(X)"
      ],
      "execution_count": 34
    },
    {
      "cell_type": "markdown",
      "metadata": {
        "id": "d7dde5db-9416-42b7-bf4f-0f849483c276"
      },
      "source": [
        "**Split the data into Training and Test Sets**   \n",
        "\n",
        "The split ratio here is 0.7 and 0.3 which means we will assign **70%** data for training and **30%** data for testing\n"
      ]
    },
    {
      "cell_type": "code",
      "metadata": {
        "id": "97caeecc-0ae9-4a33-bd93-1fd214119f12"
      },
      "outputs": [],
      "source": [
        "X_train, X_test, y_train, y_test = train_test_split(X_pf, y, test_size=0.3,\n",
        "                                                    random_state=72018)"
      ],
      "execution_count": 35
    },
    {
      "cell_type": "markdown",
      "metadata": {
        "id": "cd78df06-21c5-447e-a77d-212bb594cd59"
      },
      "source": [
        "**Normalize the training data using `StandardScaler` on `X_train`. Use fit_transform() function**\n"
      ]
    },
    {
      "cell_type": "code",
      "metadata": {
        "id": "42693f1f-ad60-4917-90e7-51dab34d1f0c"
      },
      "outputs": [],
      "source": [
        "s = StandardScaler()\n",
        "X_train_s = s.fit_transform(X_train)"
      ],
      "execution_count": 36
    },
    {
      "cell_type": "markdown",
      "metadata": {
        "id": "6aa4e890-e636-4be6-ab8e-676ea98b2b06"
      },
      "source": [
        "**Discuss: what transformation do we need to apply next?**\n",
        "\n",
        "Apply the appropriate transformation.\n"
      ]
    },
    {
      "cell_type": "code",
      "metadata": {
        "id": "7b017d63-bf02-48e0-a6fc-dfa5bcb31918"
      },
      "outputs": [],
      "source": [
        "# Enter your code here\n",
        "bc_result2 = boxcox(y_train)\n",
        "y_train_bc = bc_result2[0]\n",
        "lam2 = bc_result2[1]"
      ],
      "execution_count": 37
    },
    {
      "cell_type": "markdown",
      "metadata": {
        "id": "d6927c4d-1926-4a7e-a5fd-5b6e0c889a0f"
      },
      "source": [
        "As before, we'll now:\n",
        "\n",
        "1. Fit regression\n",
        "1. Transform testing data\n",
        "1. Predict on testing data\n"
      ]
    },
    {
      "cell_type": "code",
      "metadata": {
        "colab": {
          "base_uri": "https://localhost:8080/"
        },
        "id": "a3c40afe-1ade-4172-9fc6-04d823c4f177",
        "outputId": "fe52d725-ed56-4833-e7d5-03b432249408"
      },
      "outputs": [
        {
          "output_type": "execute_result",
          "data": {
            "text/plain": [
              "(14448,)"
            ]
          },
          "metadata": {},
          "execution_count": 38
        }
      ],
      "source": [
        "y_train_bc.shape"
      ],
      "execution_count": 38
    },
    {
      "cell_type": "code",
      "metadata": {
        "id": "d66bff56-824c-43e6-807c-f05e19094828"
      },
      "outputs": [],
      "source": [
        "lr.fit(X_train_s, y_train_bc)\n",
        "X_test_s = s.transform(X_test)\n",
        "y_pred_bc = lr.predict(X_test_s)"
      ],
      "execution_count": 39
    },
    {
      "cell_type": "markdown",
      "metadata": {
        "id": "9339335c-ce38-4f02-b18a-f3bc034d085d"
      },
      "source": [
        "### Discussion\n",
        "\n",
        "* Are we done?\n",
        "* What did we predict?\n",
        "* How would you interpret these predictions?\n"
      ]
    },
    {
      "cell_type": "markdown",
      "metadata": {
        "id": "ba8e1e1c-231e-45ef-8493-25f8b98c7c5e"
      },
      "source": [
        "#### Apply inverse transformations to be able to use these in a Regression context\n"
      ]
    },
    {
      "cell_type": "markdown",
      "metadata": {
        "id": "72005c68-c1ca-4ec4-be43-6bfdb1434193"
      },
      "source": [
        "Every transformation has an inverse transformation. The inverse transformation of $f(x) = \\sqrt{x}$ is $f^{-1}(x) = x^2$, for example. Box cox has an inverse transformation as well: notice that we have to pass in the lambda value that we found from before:\n"
      ]
    },
    {
      "cell_type": "code",
      "metadata": {
        "id": "b24e25cd-dae2-4390-bc72-0c653c757ec6"
      },
      "outputs": [],
      "source": [
        "from scipy.special import inv_boxcox"
      ],
      "execution_count": 40
    },
    {
      "cell_type": "code",
      "metadata": {
        "id": "372d4c5c-ec20-4d61-8e1e-8271d7b1c2f5"
      },
      "outputs": [],
      "source": [
        "# code from above\n",
        "bc_result = boxcox(housing_df.MedVal)\n",
        "boxcox_medv = bc_result[0]\n",
        "lam = bc_result[1]"
      ],
      "execution_count": 41
    },
    {
      "cell_type": "code",
      "metadata": {
        "colab": {
          "base_uri": "https://localhost:8080/"
        },
        "id": "c77833c0-1802-41ad-900a-3b9282ec8cf2",
        "outputId": "01af39d6-266d-4cc3-e6d1-044c8d4b6d3d"
      },
      "outputs": [
        {
          "output_type": "execute_result",
          "data": {
            "text/plain": [
              "array([4.526, 3.585, 3.521, 3.413, 3.422, 2.697, 2.992, 2.414, 2.267,\n",
              "       2.611])"
            ]
          },
          "metadata": {},
          "execution_count": 42
        }
      ],
      "source": [
        "inv_boxcox(boxcox_medv, lam)[:10]"
      ],
      "execution_count": 42
    },
    {
      "cell_type": "code",
      "metadata": {
        "colab": {
          "base_uri": "https://localhost:8080/"
        },
        "id": "03fb856c-9976-44ea-af4f-6387ef654438",
        "outputId": "45e04c60-0216-41d5-8f69-ed3f4d5cf7a1"
      },
      "outputs": [
        {
          "output_type": "execute_result",
          "data": {
            "text/plain": [
              "array([4.526, 3.585, 3.521, 3.413, 3.422, 2.697, 2.992, 2.414, 2.267,\n",
              "       2.611])"
            ]
          },
          "metadata": {},
          "execution_count": 43
        }
      ],
      "source": [
        "housing_df['MedVal'].values[:10]"
      ],
      "execution_count": 43
    },
    {
      "cell_type": "markdown",
      "metadata": {
        "id": "1d228070-2ba8-41a8-bf89-36f936b49fb8"
      },
      "source": [
        "Exactly the same, as we would hope!\n"
      ]
    },
    {
      "cell_type": "markdown",
      "metadata": {
        "id": "204a0cdb-4c3f-41ae-a46c-130a66b68fe8"
      },
      "source": [
        "### Exercise:\n",
        "\n",
        "1. Apply the appropriate inverse transformation to `y_pred_bc`.\n",
        "2. Calculate the $R^2$ using the result of this inverse transformation and `y_test`.  \n",
        "\n",
        "**Hint:** Use the **inv_boxcox()** function to get the transformed predicted values\n"
      ]
    },
    {
      "cell_type": "code",
      "metadata": {
        "colab": {
          "base_uri": "https://localhost:8080/"
        },
        "id": "b8287d73-f7c6-4430-9b07-1249a733f7b0",
        "outputId": "bef4db34-2af4-4284-86ee-26055fcde697"
      },
      "outputs": [
        {
          "output_type": "execute_result",
          "data": {
            "text/plain": [
              "0.025873646916524162"
            ]
          },
          "metadata": {},
          "execution_count": 44
        }
      ],
      "source": [
        "#Enter your code here\n",
        "y_pred_tran = inv_boxcox(y_pred_bc,lam2)\n",
        "r2_score(y_pred_tran,y_test)"
      ],
      "execution_count": 44
    },
    {
      "cell_type": "markdown",
      "metadata": {
        "id": "f7c7bff2-8600-4495-b88f-e02c30ee644c"
      },
      "source": [
        "## Practice Exercise:\n",
        "\n",
        "### Determine the R^2 of a LinearRegression without the box cox transformation.\n"
      ]
    },
    {
      "cell_type": "code",
      "metadata": {
        "colab": {
          "base_uri": "https://localhost:8080/"
        },
        "id": "b2418796-d5dc-4ee7-ab72-38ce875a2d39",
        "outputId": "977a57d4-d606-4630-fe09-51a798dbe861"
      },
      "outputs": [
        {
          "output_type": "execute_result",
          "data": {
            "text/plain": [
              "0.4871823555977194"
            ]
          },
          "metadata": {},
          "execution_count": 45
        }
      ],
      "source": [
        "# Enter your code here\n",
        "\n",
        "lr = LinearRegression()\n",
        "lr.fit(X_train_s,y_train)\n",
        "lr_pred = lr.predict(X_test_s)\n",
        "r2_score(lr_pred,y_test)"
      ],
      "execution_count": 45
    },
    {
      "cell_type": "markdown",
      "metadata": {
        "id": "9377ba0f-3bb5-4788-b0be-caac64991ecc"
      },
      "source": [
        "Click <b>here</b> for the solution.\n",
        "\n",
        "<!-- The answer is below:\n",
        "\n",
        "lr = LinearRegression()\n",
        "lr.fit(X_train_s,y_train)\n",
        "lr_pred = lr.predict(X_test_s)\n",
        "r2_score(lr_pred,y_test)\n",
        "-->\n"
      ]
    },
    {
      "cell_type": "markdown",
      "metadata": {
        "id": "a7b532ed-563c-456d-b8a6-4c41b170e989"
      },
      "source": [
        "---\n",
        "### Machine Learning Foundation (C) 2023 IBM Corporation\n"
      ]
    }
  ],
  "metadata": {
    "kernelspec": {
      "display_name": "Python",
      "language": "python",
      "name": "conda-env-python-py"
    },
    "language_info": {
      "name": ""
    },
    "colab": {
      "provenance": [],
      "include_colab_link": true
    }
  },
  "nbformat": 4,
  "nbformat_minor": 0
}