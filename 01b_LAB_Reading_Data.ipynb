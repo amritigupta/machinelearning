{
  "cells": [
    {
      "cell_type": "markdown",
      "metadata": {
        "id": "view-in-github",
        "colab_type": "text"
      },
      "source": [
        "<a href=\"https://colab.research.google.com/github/amritigupta/machinelearning/blob/main/01b_LAB_Reading_Data.ipynb\" target=\"_parent\"><img src=\"https://colab.research.google.com/assets/colab-badge.svg\" alt=\"Open In Colab\"/></a>"
      ]
    },
    {
      "cell_type": "markdown",
      "metadata": {
        "id": "gPmCozQXEvhy"
      },
      "source": [
        "# Machine Learning Foundation\n",
        "\n",
        "## Section 1, Part b: Reading Data Lab"
      ]
    },
    {
      "cell_type": "code",
      "execution_count": 1,
      "metadata": {
        "id": "bf71Z9gdEvh0"
      },
      "outputs": [],
      "source": [
        "# Imports\n",
        "import sqlite3 as sq3\n",
        "import pandas.io.sql as pds\n",
        "import pandas as pd"
      ]
    },
    {
      "cell_type": "code",
      "source": [
        "from google.colab import drive\n",
        "drive.mount('/content/drive')"
      ],
      "metadata": {
        "colab": {
          "base_uri": "https://localhost:8080/"
        },
        "id": "jTLXJOOxEyEA",
        "outputId": "b51b4f88-2fae-4b1e-d9f2-bd9046bbc8c8"
      },
      "execution_count": 2,
      "outputs": [
        {
          "output_type": "stream",
          "name": "stdout",
          "text": [
            "Mounted at /content/drive\n"
          ]
        }
      ]
    },
    {
      "cell_type": "code",
      "source": [
        "%cd /content/drive/MyDrive/DB"
      ],
      "metadata": {
        "colab": {
          "base_uri": "https://localhost:8080/"
        },
        "id": "UCxlSozxE08D",
        "outputId": "ca794749-86bc-4db9-c801-db6d85b9050c"
      },
      "execution_count": 5,
      "outputs": [
        {
          "output_type": "stream",
          "name": "stdout",
          "text": [
            "/content/drive/MyDrive/DB\n"
          ]
        }
      ]
    },
    {
      "cell_type": "markdown",
      "metadata": {
        "id": "qnjzUom6Evh0"
      },
      "source": [
        "## Lab Exercise: Reading in database files\n",
        "\n",
        " - Create a variable, `path`, containing the path to the `baseball.db` contained in `resources/`\n",
        " - Create a connection, `con`, that is connected to database at `path`\n",
        " - Create a variable, `query`, containing a SQL query which reads in all data from the `allstarfull` table\n",
        " - Create a variable, `observations`, by using pandas' [read_sql](https://pandas.pydata.org/pandas-docs/stable/reference/api/pandas.read_sql.html)\n",
        "\n",
        "### Optional\n",
        " - Create a variable, `tables`, which reads in all data from the table `sqlite_master`\n",
        " - Pretend that you were interesting in creating a new baseball hall of fame. Join and analyze the tables to evaluate the top 3 all time best baseball players."
      ]
    },
    {
      "cell_type": "code",
      "execution_count": 7,
      "metadata": {
        "colab": {
          "base_uri": "https://localhost:8080/"
        },
        "id": "L3ciR-Z8Evh1",
        "outputId": "3c48eefc-67bb-4a31-b9e2-4fcba12458e2"
      },
      "outputs": [
        {
          "output_type": "stream",
          "name": "stdout",
          "text": [
            "    type                  name     tbl_name  rootpage  \\\n",
            "0  table           allstarfull  allstarfull         2   \n",
            "1  index  ix_allstarfull_index  allstarfull         3   \n",
            "2  table               schools      schools        26   \n",
            "3  index      ix_schools_index      schools        31   \n",
            "4  table               batting      batting        99   \n",
            "5  index      ix_batting_index      batting       100   \n",
            "\n",
            "                                                 sql  \n",
            "0  CREATE TABLE \"allstarfull\" (\\n\"index\" INTEGER,...  \n",
            "1  CREATE INDEX \"ix_allstarfull_index\"ON \"allstar...  \n",
            "2  CREATE TABLE \"schools\" (\\n\"index\" INTEGER,\\n  ...  \n",
            "3  CREATE INDEX \"ix_schools_index\"ON \"schools\" (\"...  \n",
            "4  CREATE TABLE \"batting\" (\\n\"index\" INTEGER,\\n  ...  \n",
            "5  CREATE INDEX \"ix_batting_index\"ON \"batting\" (\"...  \n",
            "    playerID  num_games_played  avg_starting_position\n",
            "0  musiast01              24.0               6.357143\n",
            "1   mayswi01              24.0               8.000000\n",
            "2  aaronha01              24.0               8.470588\n"
          ]
        }
      ],
      "source": [
        "### BEGIN SOLUTION\n",
        "# Create a variable, `path`, containing the path to the `baseball.db` contained in `resources/`\n",
        "path = 'baseball.db'\n",
        "\n",
        "# Create a connection, `con`, that is connected to database at `path`\n",
        "con = sq3.Connection(path)\n",
        "\n",
        "# Create a variable, `query`, containing a SQL query which reads in all data from the `` table\n",
        "\n",
        "query = \"\"\"\n",
        "SELECT *\n",
        "    FROM allstarfull\n",
        "    ;\n",
        "\"\"\"\n",
        "\n",
        "allstar_observations = pd.read_sql(query, con)\n",
        "\n",
        "# print(allstar_observations)\n",
        "\n",
        "# Create a variable, tables, which reads in all data from the table sqlite_master\n",
        "all_tables = pd.read_sql('SELECT * FROM sqlite_master', con)\n",
        "print(all_tables)\n",
        "\n",
        "# Pretend that you were interesting in creating a new baseball hall of fame. Join and analyze the tables to evaluate the top 3 all time best baseball players\n",
        "best_query = \"\"\"\n",
        "SELECT playerID, sum(GP) AS num_games_played, AVG(startingPos) AS avg_starting_position\n",
        "    FROM allstarfull\n",
        "    GROUP BY playerID\n",
        "    ORDER BY num_games_played DESC, avg_starting_position ASC\n",
        "    LIMIT 3\n",
        "\"\"\"\n",
        "best = pd.read_sql(best_query, con)\n",
        "print(best.head())\n",
        "### END SOLUTION"
      ]
    },
    {
      "cell_type": "code",
      "source": [
        "best_query = \"\"\"\n",
        "SELECT playerID, sum(GP) AS num_games_played, AVG(startingPos) AS avg_starting_position\n",
        "    FROM allstarfull\n",
        "    GROUP BY playerID\n",
        "    ORDER BY num_games_played DESC, avg_starting_position ASC\n",
        "    LIMIT 3\n",
        "\"\"\"\n",
        "best = pd.read_sql(best_query, con)\n",
        "print(best.head())"
      ],
      "metadata": {
        "colab": {
          "base_uri": "https://localhost:8080/"
        },
        "id": "yx49Z4gmFmHM",
        "outputId": "37743826-3d72-4b3f-9b1a-77f532595373"
      },
      "execution_count": 9,
      "outputs": [
        {
          "output_type": "stream",
          "name": "stdout",
          "text": [
            "    playerID  num_games_played  avg_starting_position\n",
            "0  musiast01              24.0               6.357143\n",
            "1   mayswi01              24.0               8.000000\n",
            "2  aaronha01              24.0               8.470588\n"
          ]
        }
      ]
    },
    {
      "cell_type": "code",
      "source": [
        "all_tables = pd.read_sql('SELECT * FROM sqlite_master', con)\n",
        "print(all_tables)"
      ],
      "metadata": {
        "colab": {
          "base_uri": "https://localhost:8080/"
        },
        "id": "AX2_DW-mFb9O",
        "outputId": "4abdaa49-0bae-424b-9e8a-d477ef501cfd"
      },
      "execution_count": 8,
      "outputs": [
        {
          "output_type": "stream",
          "name": "stdout",
          "text": [
            "    type                  name     tbl_name  rootpage  \\\n",
            "0  table           allstarfull  allstarfull         2   \n",
            "1  index  ix_allstarfull_index  allstarfull         3   \n",
            "2  table               schools      schools        26   \n",
            "3  index      ix_schools_index      schools        31   \n",
            "4  table               batting      batting        99   \n",
            "5  index      ix_batting_index      batting       100   \n",
            "\n",
            "                                                 sql  \n",
            "0  CREATE TABLE \"allstarfull\" (\\n\"index\" INTEGER,...  \n",
            "1  CREATE INDEX \"ix_allstarfull_index\"ON \"allstar...  \n",
            "2  CREATE TABLE \"schools\" (\\n\"index\" INTEGER,\\n  ...  \n",
            "3  CREATE INDEX \"ix_schools_index\"ON \"schools\" (\"...  \n",
            "4  CREATE TABLE \"batting\" (\\n\"index\" INTEGER,\\n  ...  \n",
            "5  CREATE INDEX \"ix_batting_index\"ON \"batting\" (\"...  \n"
          ]
        }
      ]
    },
    {
      "cell_type": "markdown",
      "metadata": {
        "id": "Jssxw3WGEvh1"
      },
      "source": [
        "---\n",
        "### Machine Learning Foundation (C) 2020 IBM Corporation"
      ]
    }
  ],
  "metadata": {
    "kernelspec": {
      "display_name": "Python 3",
      "language": "python",
      "name": "python3"
    },
    "language_info": {
      "codemirror_mode": {
        "name": "ipython",
        "version": 3
      },
      "file_extension": ".py",
      "mimetype": "text/x-python",
      "name": "python",
      "nbconvert_exporter": "python",
      "pygments_lexer": "ipython3",
      "version": "3.7.5"
    },
    "colab": {
      "provenance": [],
      "include_colab_link": true
    }
  },
  "nbformat": 4,
  "nbformat_minor": 0
}